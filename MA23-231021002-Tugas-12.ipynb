{
 "cells": [
  {
   "cell_type": "markdown",
   "metadata": {},
   "source": [
    "(G)\n",
    "\n",
    "$x + 2y +3z = 4$\n",
    "\n",
    "$5x + 6y + 7z = 8$\n",
    "\n",
    "$9x + 10y + 11z = 12$\n"
   ]
  },
  {
   "cell_type": "code",
   "execution_count": 1,
   "metadata": {},
   "outputs": [
    {
     "name": "stdout",
     "output_type": "stream",
     "text": [
      "Nilai X= -0.7500000000000002\n",
      "Nilai Y= 0.5000000000000002\n",
      "Nilai Z= 1.25\n"
     ]
    }
   ],
   "source": [
    "import numpy as np\n",
    "def Solusi(A,B):\n",
    "    if np.linalg.det(A) == 0:\n",
    "        print('Tidak Menemukan Solusi')\n",
    "    else:\n",
    "        hasil = np.linalg.solve(A,B)\n",
    "        print('Nilai X=', hasil[0,0])\n",
    "        print('Nilai Y=', hasil[1,0])\n",
    "        print('Nilai Z=', hasil[2,0])\n",
    "        return\n",
    "\n",
    "A = np.array([[1,2,3],\n",
    "             [5,6,7],\n",
    "             [9,10,11]])\n",
    "\n",
    "B = np.array([[4],\n",
    "            [8],\n",
    "            [12]])\n",
    "\n",
    "hasil = Solusi(A,b)"
   ]
  },
  {
   "cell_type": "markdown",
   "metadata": {},
   "source": [
    "$(J)$\n",
    "\n",
    "$x_1 - x_2 + 2x_3 + x_4 = -1$\n",
    "\n",
    "$2x_1 + x_2 + x_3 - x_4 = 4$\n",
    "\n",
    "$x_1 + 2x_2 - x_3 - 2x_4 = 5$\n",
    "\n",
    "$x_1 + 0 + x_3 + 0 = 1$\n"
   ]
  },
  {
   "cell_type": "code",
   "execution_count": 2,
   "metadata": {},
   "outputs": [
    {
     "name": "stdout",
     "output_type": "stream",
     "text": [
      "Tidak Menemukan Solusi\n"
     ]
    }
   ],
   "source": [
    "import numpy as np\n",
    "def Solusi(C,D):\n",
    "    if np.linalg.det(C) == 0:\n",
    "        print('Tidak Menemukan Solusi')\n",
    "    else:\n",
    "        hasil = np.linalg.solve(C,D)\n",
    "        print('Nilai x_1=', hasil[0,0])\n",
    "        print('Nilai x_2=', hasil[1,0])\n",
    "        print('Nilai x_3=', hasil[2,0])\n",
    "        print('Nilai x_4=', hasil[3,0])\n",
    "        return\n",
    "\n",
    "C = np.array([[1,-1,2,1],\n",
    "             [2,1,1,-1],\n",
    "             [1,2,-1,-2],\n",
    "             [1,0,1,0]])\n",
    "\n",
    "D = np.array([[-1],\n",
    "            [4],\n",
    "            [5],\n",
    "            [1]])\n",
    "\n",
    "hasil = Solusi(C,D)"
   ]
  },
  {
   "cell_type": "markdown",
   "metadata": {},
   "source": [
    "$(Q)$\n",
    "\n",
    "$2x_1 + x_2 + 0 + x_4 + 2x_5 = 0$\n",
    "\n",
    "$x_1 + x_2 - x_3 + 0 + 0 = 0$\n",
    "\n",
    "$x_1 + x_2 + x_3 - 3x_4 + 2x_5 = 0$\n",
    "\n",
    "$2x_1 + 2x_2 - x_3 + 0 + x_5 = 0$\n",
    "\n",
    "$x_1 + x_2 + 0 + 0 + 0 = 2$\n",
    "\n",
    "\n",
    "\n"
   ]
  },
  {
   "cell_type": "code",
   "execution_count": 1,
   "metadata": {},
   "outputs": [
    {
     "name": "stdout",
     "output_type": "stream",
     "text": [
      "Nilai x_1= 2.0\n",
      "Nilai x_2= 0.0\n",
      "Nilai x_3= 2.0\n",
      "Nilai x_4= -0.0\n",
      "Nilai x_5= -2.0\n"
     ]
    }
   ],
   "source": [
    "import numpy as np\n",
    "def Solusi(F,H):\n",
    "    if np.linalg.det(F) == 0:\n",
    "        print('Tidak Menemukan Solusi')\n",
    "    else:\n",
    "        hasil = np.linalg.solve(F,H)\n",
    "        print('Nilai x_1=', hasil[0,0])\n",
    "        print('Nilai x_2=', hasil[1,0])\n",
    "        print('Nilai x_3=', hasil[2,0])\n",
    "        print('Nilai x_4=', hasil[3,0])\n",
    "        print('Nilai x_5=', hasil[4,0])\n",
    "        return\n",
    "\n",
    "F = np.array([[2,1,0,1,2],\n",
    "             [1,1,-1,0,0],\n",
    "             [1,1,1,-3,2],\n",
    "             [2,2,-1,0,1],\n",
    "             [1,1,0,0,0]])\n",
    "\n",
    "H = np.array([[0],\n",
    "            [0],\n",
    "            [0],\n",
    "            [0],\n",
    "            [2]])\n",
    "\n",
    "hasil = Solusi(F,H)"
   ]
  }
 ],
 "metadata": {
  "kernelspec": {
   "display_name": "Python 3",
   "language": "python",
   "name": "python3"
  },
  "language_info": {
   "codemirror_mode": {
    "name": "ipython",
    "version": 3
   },
   "file_extension": ".py",
   "mimetype": "text/x-python",
   "name": "python",
   "nbconvert_exporter": "python",
   "pygments_lexer": "ipython3",
   "version": "3.12.2"
  }
 },
 "nbformat": 4,
 "nbformat_minor": 2
}
